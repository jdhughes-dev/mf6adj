{
 "cells": [
  {
   "cell_type": "markdown",
   "id": "c4659d0e-d279-4a04-904b-19df56ddca46",
   "metadata": {},
   "source": [
    "# Zaidel `MF6Adj` Demo #"
   ]
  },
  {
   "cell_type": "markdown",
   "id": "1e8cf343-a395-4699-888f-73eec95d02f6",
   "metadata": {},
   "source": [
    "This problem uses the __[Zaidel (2003)](https://ngwa.onlinelibrary.wiley.com/doi/10.1111/gwat.12019)__ problem to test the adjoint tool. The Zaidel problem is most often used to verify the numerical stability and convergence of a computer code against a discontinuous, steady-state analytical solution of the Boussinesq equation. Here, we use it as a vehicle for understanding the utility of `Mf6Adj`"
   ]
  },
  {
   "cell_type": "markdown",
   "id": "d25fc7c8-1a18-4c08-a3bf-58d29be3b26b",
   "metadata": {},
   "source": [
    "The learning objectives include:\n",
    "1. Build and solve adjoint for the Zaidel problem using a direct head performance measure (PM).\n",
    "2. Understand the adjoint sensitivity results. \n",
    "3. Explore the adjoint sensitivity results for a different PM location. "
   ]
  },
  {
   "cell_type": "markdown",
   "id": "155fc9dd-4610-4908-aa8a-6909d2c84da6",
   "metadata": {},
   "source": [
    "First, we need to do some bookkeeping: import libraries, set paths, create directories, ensure executables are in the working directory."
   ]
  },
  {
   "cell_type": "code",
   "execution_count": null,
   "id": "a544a09c-ff7c-4aa6-b376-968b63d39a94",
   "metadata": {},
   "outputs": [],
   "source": [
    "import os\n",
    "import pathlib as pl\n",
    "import platform\n",
    "import shutil\n",
    "import sys\n",
    "from datetime import datetime\n",
    "\n",
    "import flopy\n",
    "import h5py\n",
    "import matplotlib.pyplot as plt\n",
    "import numpy as np\n",
    "import pyemu"
   ]
  },
  {
   "cell_type": "code",
   "execution_count": null,
   "id": "6f276c21-9f45-4a7c-ba62-3e7bd4efe497",
   "metadata": {},
   "outputs": [],
   "source": [
    "try:\n",
    "    import mf6adj\n",
    "except ImportError:\n",
    "    sys.path.insert(0, str(pl.Path(\"../\").resolve()))\n",
    "    import mf6adj"
   ]
  },
  {
   "cell_type": "code",
   "execution_count": null,
   "id": "abcb7dd3-a5d1-4727-9b96-31785481847b",
   "metadata": {},
   "outputs": [],
   "source": [
    "env_path = pl.Path(os.environ.get(\"CONDA_PREFIX\", None))\n",
    "assert env_path is not None, \"Notebook must be run from the mf6adj Conda environment\""
   ]
  },
  {
   "cell_type": "code",
   "execution_count": null,
   "id": "b4c4fbbc-4c5f-4ff0-8904-44d55174b349",
   "metadata": {},
   "outputs": [],
   "source": [
    "bin_path = \"bin\"\n",
    "exe_ext = \"\"\n",
    "if \"linux\" in platform.platform().lower():\n",
    "    lib_ext = \".so\"\n",
    "elif \"darwin\" in platform.platform().lower() or \"macos\" in platform.platform().lower():\n",
    "    lib_ext = \".dylib\"\n",
    "else:\n",
    "    bin_path = \"Scripts\"\n",
    "    lib_ext = \".dll\"\n",
    "    exe_ext = \".exe\"\n",
    "lib_name = env_path / f\"{bin_path}/libmf6{lib_ext}\"\n",
    "mf6_bin = env_path / f\"{bin_path}/mf6{exe_ext}\""
   ]
  },
  {
   "cell_type": "code",
   "execution_count": null,
   "id": "2b67cdca-1f94-44a8-88e0-9c687081c56f",
   "metadata": {},
   "outputs": [],
   "source": [
    "sim_name = \"ex-gwf-zaidel\"\n",
    "workspace = sim_name\n",
    "if os.path.exists(workspace):\n",
    "    shutil.rmtree(workspace)\n",
    "os.mkdir(workspace)"
   ]
  },
  {
   "cell_type": "markdown",
   "id": "169198d1-1055-4d23-a80b-d5c0032bf7b0",
   "metadata": {},
   "source": [
    "The Zaidel model comprises a steady-state, 1 stress period (SP), 1 timestep (TS), 2-dimensional, stair-stepped domain with a constant head boundary condition (BC) at both ends dictating the head gradient. No other BCs are applied. At the time of developing this notebook example (October 2024), `Mf6Adj` was not yet able to handle constant head (CHD) BCs, so we will apply the well-known trick of using a general head BC with a high conductance to imitate a CHD. "
   ]
  },
  {
   "cell_type": "markdown",
   "id": "5ec9c215-b597-4b7a-b94c-aeae7371ec56",
   "metadata": {},
   "source": [
    "We are going to wrap our model build/run calls into a function to allow us to test some things later on in this example. "
   ]
  },
  {
   "cell_type": "code",
   "execution_count": null,
   "id": "a0e1e1bd-9801-4027-aab0-14fa85aafc7e",
   "metadata": {},
   "outputs": [],
   "source": [
    "# Model parameters\n",
    "nper = 1  # Number of periods\n",
    "nlay = 1  # Number of layers\n",
    "nrow = 1  # Number of rows\n",
    "ncol = 200  # Number of columns\n",
    "delr = 5.0  # Column width ($m$)\n",
    "delc = 1.0  # Row width ($m$)\n",
    "top = 25.0  # Top of the model ($m$)\n",
    "strt = 23.0  # Starting head ($m$)\n",
    "icelltype = 1  # Cell conversion type\n",
    "H1 = 23.0  # Constant head in column 1 ($m$)"
   ]
  },
  {
   "cell_type": "code",
   "execution_count": null,
   "id": "5081f8bf-a39f-415e-8518-6a32138a65dd",
   "metadata": {},
   "outputs": [],
   "source": [
    "# Model units\n",
    "length_units = \"meters\"\n",
    "time_units = \"days\"\n",
    "\n",
    "\n",
    "def run_model(\n",
    "    H2=1, k11=0.0001, hclose=1e-9, rclose=1e-6, nouter=500, ninner=50, cond=100\n",
    "):\n",
    "    # Time discretization\n",
    "    tdis_ds = ((1.0, 1, 1.0),)\n",
    "\n",
    "    # Build stairway bottom\n",
    "    botm = np.zeros((nlay, nrow, ncol), dtype=float)\n",
    "    base = 20.0\n",
    "    for j in range(ncol):\n",
    "        botm[0, :, j] = base\n",
    "        if j + 1 in (40, 80, 120, 160):\n",
    "            base -= 5\n",
    "\n",
    "    # Constant head cells are specified on the left and right edge of the model\n",
    "    chd_spd = [\n",
    "        [0, 0, 0, H1, cond],\n",
    "        [0, 0, ncol - 1, H2, cond],\n",
    "    ]\n",
    "\n",
    "    sim_ws = os.path.join(workspace)\n",
    "    sim = flopy.mf6.MFSimulation(sim_name=sim_name, sim_ws=sim_ws, exe_name=\"mf6\")\n",
    "    flopy.mf6.ModflowTdis(sim, nper=nper, perioddata=tdis_ds, time_units=time_units)\n",
    "    flopy.mf6.ModflowIms(\n",
    "        sim,\n",
    "        linear_acceleration=\"bicgstab\",\n",
    "        outer_maximum=nouter,\n",
    "        outer_dvclose=hclose,\n",
    "        inner_maximum=ninner,\n",
    "        inner_dvclose=hclose,\n",
    "        rcloserecord=f\"{rclose} strict\",\n",
    "    )\n",
    "    gwf = flopy.mf6.ModflowGwf(sim, modelname=sim_name, newtonoptions=\"newton\")\n",
    "    flopy.mf6.ModflowGwfdis(\n",
    "        gwf,\n",
    "        length_units=length_units,\n",
    "        nlay=nlay,\n",
    "        nrow=nrow,\n",
    "        ncol=ncol,\n",
    "        delr=delr,\n",
    "        delc=delc,\n",
    "        top=top,\n",
    "        botm=botm,\n",
    "    )\n",
    "    flopy.mf6.ModflowGwfnpf(\n",
    "        gwf,\n",
    "        icelltype=icelltype,\n",
    "        k=k11,\n",
    "    )\n",
    "    flopy.mf6.ModflowGwfic(gwf, strt=strt)\n",
    "    flopy.mf6.ModflowGwfghb(gwf, stress_period_data=chd_spd)\n",
    "\n",
    "    head_filerecord = f\"{sim_name}.hds\"\n",
    "    flopy.mf6.ModflowGwfoc(\n",
    "        gwf,\n",
    "        head_filerecord=head_filerecord,\n",
    "        saverecord=[(\"HEAD\", \"ALL\")],\n",
    "    )\n",
    "\n",
    "    sim.write_simulation()\n",
    "    pyemu.os_utils.run(mf6_bin.name, cwd=workspace)"
   ]
  },
  {
   "cell_type": "markdown",
   "id": "503a2dd0-d7c6-4d98-b641-6076e1d69079",
   "metadata": {},
   "source": [
    "Let's wrap the plotting code bits into a function as well, this time just for brevity's sake."
   ]
  },
  {
   "cell_type": "code",
   "execution_count": null,
   "id": "1a68dc1e-cd16-45d1-99a6-ddeb02dfd515",
   "metadata": {},
   "outputs": [],
   "source": [
    "def plot_results(\n",
    "    plot_head=False, arr=None, arr_label=\"\", ws=workspace, plot_pm=False, pm_col=0\n",
    "):\n",
    "    sim = flopy.mf6.MFSimulation.load(sim_ws=ws)\n",
    "    gwf = sim.get_model()\n",
    "    botm = gwf.dis.botm.array\n",
    "\n",
    "    xedge = gwf.modelgrid.xvertices[0]\n",
    "    zedge = np.array([botm[0, 0, 0]] + botm.flatten().tolist())\n",
    "\n",
    "    # create MODFLOW 6 head object\n",
    "    hobj = gwf.output.head()\n",
    "\n",
    "    # extract heads\n",
    "    head = hobj.get_data()\n",
    "\n",
    "    # Create figure for simulation\n",
    "    extents = (0, ncol * delr, -1, 25.0)\n",
    "    figure_size = (6.3, 2.5)\n",
    "    fig, ax = plt.subplots(\n",
    "        ncols=1,\n",
    "        nrows=1,\n",
    "        figsize=figure_size,\n",
    "        dpi=300,\n",
    "        constrained_layout=True,\n",
    "        sharey=True,\n",
    "    )\n",
    "\n",
    "    ax.set_xlim(extents[:2])\n",
    "    ax.set_ylim(extents[2:])\n",
    "\n",
    "    fmp = flopy.plot.PlotCrossSection(model=gwf, ax=ax, extent=extents, line={\"row\": 0})\n",
    "    ax.fill_between(xedge, zedge, y2=-1, color=\"0.75\", step=\"pre\", lw=0.0)\n",
    "    if plot_head:\n",
    "        vmin, vmax = 0, 25\n",
    "        plot_obj = fmp.plot_array(head, head=head, vmin=vmin, vmax=vmax)\n",
    "        cb_label = r\"Head, $m$\"\n",
    "    else:\n",
    "        plot_obj = fmp.plot_array(arr, head=head)\n",
    "        cb_label = arr_label\n",
    "\n",
    "    if plot_pm:\n",
    "        height = head[0, 0, pm_col]\n",
    "        ax.plot((pm_col * 5) + 2.5, height, \"*\", color=\"red\", ms=5)\n",
    "    ax.set_xlabel(\"x-coordinate, in meters\")\n",
    "    ax.set_ylabel(\"Elevation, in meters\")\n",
    "\n",
    "    # create legend\n",
    "    ax.plot(\n",
    "        -10000,\n",
    "        -10000,\n",
    "        lw=0,\n",
    "        marker=\"s\",\n",
    "        ms=10,\n",
    "        mfc=\"cyan\",\n",
    "        mec=\"cyan\",\n",
    "        label=\"Constant Head\",\n",
    "    )\n",
    "    ax.plot(\n",
    "        -10000,\n",
    "        -10000,\n",
    "        lw=0,\n",
    "        marker=\"s\",\n",
    "        ms=10,\n",
    "        mfc=\"0.75\",\n",
    "        mec=\"0.75\",\n",
    "        label=\"Model Base\",\n",
    "    )\n",
    "    # styles.graph_legend(ax, ncol=2, loc=\"upper right\")\n",
    "\n",
    "    # plot colorbar\n",
    "    cax = plt.axes([0.62, 0.86, 0.325, 0.025])\n",
    "    cbar = plt.colorbar(plot_obj, shrink=0.8, orientation=\"horizontal\", cax=cax)\n",
    "    cbar.ax.tick_params(size=0)\n",
    "    cbar.ax.set_xlabel(f\"{cb_label}\", fontsize=9)"
   ]
  },
  {
   "cell_type": "markdown",
   "id": "f565762f-3bd0-4377-b707-8cb2f2ad0117",
   "metadata": {},
   "source": [
    "Let's run the model and plot the heads. We should (hopefully) see a converged solution and a fun stair-stepping pattern in heads.  "
   ]
  },
  {
   "cell_type": "code",
   "execution_count": null,
   "id": "e1b50cb2-b7d8-4cc2-b652-1069cb731fac",
   "metadata": {},
   "outputs": [],
   "source": [
    "run_model()\n",
    "plot_results(plot_head=True)"
   ]
  },
  {
   "cell_type": "markdown",
   "id": "036e9104-70b3-4fbd-b172-02002d970ac9",
   "metadata": {},
   "source": [
    "Et voila! Now let's try a direct head performance measure (PM) with adjoint. There's just one stress period, so no need to add multiple PMs for the same location."
   ]
  },
  {
   "cell_type": "code",
   "execution_count": null,
   "id": "e052b88e-c79e-40e8-a4a9-199f6d0050bf",
   "metadata": {},
   "outputs": [],
   "source": [
    "pm_fname = \"zaidel_perfmeas.dat\"\n",
    "fpm = open(os.path.join(workspace, pm_fname), \"w\")\n",
    "pm_col = 190  # pm column\n",
    "layer, row = 1, 1  # the layer row\n",
    "sp, ts = 1, 1  # stress period and time step\n",
    "pm_name = \"pm_single\"\n",
    "fpm.write(\"begin performance_measure {0}\\n\".format(pm_name))\n",
    "fpm.write(\n",
    "    \"{0} {1} {2} {3} {4} head direct 1.0 -1e30\\n\".format(sp, ts, layer, row, pm_col)\n",
    ")\n",
    "fpm.write(\"end performance_measure\\n\\n\")\n",
    "fpm.close()"
   ]
  },
  {
   "cell_type": "markdown",
   "id": "bee39e96-866d-4427-af52-7489f41b40f9",
   "metadata": {},
   "source": [
    "Now let's run the adjoint solution. Recall this involves a single forward run of the model and then a solve of the adjoint state for each SP and TS, backwards in time. "
   ]
  },
  {
   "cell_type": "code",
   "execution_count": null,
   "id": "48851d66-7a7d-4b56-b40e-4ccdd9120999",
   "metadata": {},
   "outputs": [],
   "source": [
    "bd = os.getcwd()\n",
    "os.chdir(workspace)"
   ]
  },
  {
   "cell_type": "code",
   "execution_count": null,
   "id": "b8245c6a-b3e8-4247-8e4e-c98ad815cecd",
   "metadata": {},
   "outputs": [],
   "source": [
    "forward_hdf5_name = \"zaidel.hdf5\"\n",
    "start = datetime.now()\n",
    "adj = mf6adj.Mf6Adj(pm_fname, lib_name, logging_level=\"INFO\")\n",
    "adj.solve_gwf(hdf5_name=forward_hdf5_name)  # solve the standard forward solution\n",
    "dfsum = adj.solve_adjoint()  # solve the adjoint state for each performance measure\n",
    "adj.finalize()  # release components\n",
    "duration = (datetime.now() - start).total_seconds()\n",
    "print(\"took:\", duration)"
   ]
  },
  {
   "cell_type": "code",
   "execution_count": null,
   "id": "0fada8a9-22d2-4393-a9e1-76210653f668",
   "metadata": {},
   "outputs": [],
   "source": [
    "os.chdir(bd)"
   ]
  },
  {
   "cell_type": "markdown",
   "id": "bc14b5bb-893f-4c01-839e-40ae7764ecce",
   "metadata": {},
   "source": [
    "Looks like it ran, yay! Now let's check out what output files are in the working directory. Recall, `Mf6Adj` stores outputs in a hierarchical data (HDF5) format. This is necessary because the adjoint solution would otherwise have to store quite a lot of information from the forward run (conductance, RHS, etc.) in memory. Plus, it avoids saving out the adjoint results to tons of ascii files that can clutter up the working directory fast."
   ]
  },
  {
   "cell_type": "code",
   "execution_count": null,
   "id": "0f73f60c-6c58-4262-88fc-61303c2c7f5a",
   "metadata": {},
   "outputs": [],
   "source": [
    "[f for f in os.listdir(workspace) if f.endswith(\"hdf5\")]"
   ]
  },
  {
   "cell_type": "markdown",
   "id": "83a855eb-8eb5-4eb4-860b-f95e31e0e23b",
   "metadata": {},
   "source": [
    "The zaidel hdf5 file contains the forward run components, whereas the adjoint solution hdf5 file contains the outputs we are after. Let's take a look at what's in the results file. It should be all timesteps/stress periods for all performance measure, which in our case is just 1 for now."
   ]
  },
  {
   "cell_type": "code",
   "execution_count": null,
   "id": "0b6f0d3e-377c-46c8-9d33-d1da6296f9f9",
   "metadata": {},
   "outputs": [],
   "source": [
    "result_hdf = \"adjoint_solution_pm_single_zaidel.hdf5\"\n",
    "hdf = h5py.File(os.path.join(workspace, result_hdf), \"r\")\n",
    "keys = list(hdf.keys())\n",
    "keys.sort()\n",
    "keys"
   ]
  },
  {
   "cell_type": "markdown",
   "id": "32ab2e1b-27a3-4ba2-8f0d-5e025bf62f59",
   "metadata": {},
   "source": [
    "Now let's investigate the components for which we have sensitivity results for that direct head PM. There should be one for every BC parameter in the model, as well as K components. "
   ]
  },
  {
   "cell_type": "code",
   "execution_count": null,
   "id": "5359ff4c-21ce-4afb-b5cc-c8ff8e87de19",
   "metadata": {},
   "outputs": [],
   "source": [
    "grp = hdf[\"composite\"]\n",
    "plot_keys = [i for i in grp.keys() if len(grp[i].shape) == 3]\n",
    "plot_keys"
   ]
  },
  {
   "cell_type": "markdown",
   "id": "13a2db10-0bb0-4ac5-8566-2ca460514bac",
   "metadata": {},
   "source": [
    "__But wait!__ There are results for two extra BCs that were not part of the Zaidel model: the recharge and well package. Why is that?"
   ]
  },
  {
   "cell_type": "markdown",
   "id": "7d949844-821f-4001-93a3-5df84dbb352c",
   "metadata": {},
   "source": [
    "This is because the adjoint state is equivalent the sensitivity of the PM to a unit injection of water in every cell. A unit injection of water is equal to a specified flux BC, or the recharge and well package (assuming Q is positive for injection in the well package)."
   ]
  },
  {
   "cell_type": "markdown",
   "id": "5bda94c5-5545-4203-aa6f-1a76ca15fb89",
   "metadata": {},
   "source": [
    "#### So for any `Mf6Adj` solution, you automatically get the sensitivity of the PM to recharge and well Q regardless of them being in the model."
   ]
  },
  {
   "cell_type": "markdown",
   "id": "4c1a325c-5910-47b0-96e9-0e9210b67107",
   "metadata": {},
   "source": [
    "All right, now let's plot up the results and see if they make sense. Let's start with the GHB parameters: GHB head and conductance."
   ]
  },
  {
   "cell_type": "code",
   "execution_count": null,
   "id": "ced98ee7-32e0-4c77-be26-4ce5de49e0be",
   "metadata": {},
   "outputs": [],
   "source": [
    "keys = [pkey for pkey in plot_keys if \"ghb\" in pkey]\n",
    "for pkey in keys:\n",
    "    arr = grp[pkey][:]\n",
    "    for k, karr in enumerate(arr):\n",
    "        plot_results(\n",
    "            arr=karr, plot_head=False, arr_label=pkey, plot_pm=True, pm_col=pm_col\n",
    "        )"
   ]
  },
  {
   "cell_type": "markdown",
   "id": "385ff7c8-3242-41ce-8ffd-49edc5b5105a",
   "metadata": {},
   "source": [
    "Cool! The adjoint results show that the head PM is more sensitive to GHB head than conductance. That makes intuitive sense, since conductance is much larger than head in this example and typically varies over a larger scale, so heads would be less responsive to a unit change in conductance. "
   ]
  },
  {
   "cell_type": "markdown",
   "id": "14be463e-c4d7-4d25-aab8-21970d45455d",
   "metadata": {},
   "source": [
    "Another interesting result is in the relative sensitivities of the upgradient and downgradient GHBs. For GHB head, it makes sense that head in column 190 would be more sensitive to the downgradient GHB. "
   ]
  },
  {
   "cell_type": "markdown",
   "id": "7b6dfde8-72dd-4446-a570-b17f6d43b98c",
   "metadata": {},
   "source": [
    "__But why does the downgradient GHB show a negative sensitivity value and the upgradient GHB a positive sensitivity value?__"
   ]
  },
  {
   "cell_type": "markdown",
   "id": "6643dcb9-ae8f-49cb-a542-d4d6ffc9b61b",
   "metadata": {},
   "source": [
    "The adjoint method solves for the response of the PM to a positive increment in the parameter. So, for the upgradient GHB, a higher conductance means slightly more flux into the domain and higher downgradient head. For the downgradient GHB, a higher conductance would act to flatten the the water table at that lowest step, leading to a slightly lower head at the PM. __Conductance up, head up is a positive sensitivity, conductance up, head down is a negative sensitivity.__ "
   ]
  },
  {
   "cell_type": "markdown",
   "id": "e9b64666-27a8-4906-a93a-69e9d7a5af3d",
   "metadata": {},
   "source": [
    "Now let's take a look at the components of K: K11 and K33 (horizontal and vertical K)"
   ]
  },
  {
   "cell_type": "code",
   "execution_count": null,
   "id": "c1b92918-67ed-49f0-8c67-f52315676442",
   "metadata": {},
   "outputs": [],
   "source": [
    "keys = [pkey for pkey in plot_keys if \"k\" in pkey]\n",
    "for pkey in keys:\n",
    "    arr = grp[pkey][:]\n",
    "    for k, karr in enumerate(arr):\n",
    "        plot_results(\n",
    "            arr=karr, plot_head=False, arr_label=pkey, plot_pm=True, pm_col=pm_col\n",
    "        )"
   ]
  },
  {
   "cell_type": "markdown",
   "id": "0ed2803c-bf09-457d-ad5b-35b867514189",
   "metadata": {},
   "source": [
    "Wait, why is K33 zero sensitivity everywhere?"
   ]
  },
  {
   "cell_type": "markdown",
   "id": "b4f1ef73-2195-493d-b5ec-a2de15d7f4dd",
   "metadata": {},
   "source": [
    "###### Because it's a 1-layer model, doh! "
   ]
  },
  {
   "cell_type": "markdown",
   "id": "c71e498b-2bcb-4706-adba-76fc5fafde9a",
   "metadata": {},
   "source": [
    "__So what's up with the zonal behavior with K11?__"
   ]
  },
  {
   "cell_type": "markdown",
   "id": "c9585556-f720-41fc-967d-5846fef8a86b",
   "metadata": {},
   "source": [
    "Just like with the GHB conductance, a higher K at the upgradient step containing the GHB leads to more flow into the domain and a higher head PM. A higher K downgradient of the PM (but on the same step) would act to flatten the water table and lead to a lower head PM. K values at the GHB locations have lower absolute sensitivities, reflecting the dominance of the BC conductance in those cells. Interestingly, horizontal K at all of the intervening upgradient steps has very small (but not zero) positive sensitivity. This reflects the fact that the heads in the Zaidel problem are largely governed by the GHBs."
   ]
  },
  {
   "cell_type": "markdown",
   "id": "a31f6d88-b617-474b-9315-82cd39d72b15",
   "metadata": {},
   "source": [
    "Last but not least, let's take a look at the recharge and well results. "
   ]
  },
  {
   "cell_type": "code",
   "execution_count": null,
   "id": "1f96ae42-6cb7-4e5b-9dd8-5b4e1b823d4c",
   "metadata": {},
   "outputs": [],
   "source": [
    "keys = [pkey for pkey in plot_keys if \"rch\" in pkey or \"wel\" in pkey]\n",
    "for pkey in keys:\n",
    "    arr = grp[pkey][:]\n",
    "    for k, karr in enumerate(arr):\n",
    "        plot_results(\n",
    "            arr=karr, plot_head=False, arr_label=pkey, plot_pm=True, pm_col=pm_col\n",
    "        )"
   ]
  },
  {
   "cell_type": "markdown",
   "id": "e91d4a80-d8a3-42df-b5e7-62e94715fb42",
   "metadata": {},
   "source": [
    "As expected, they are identical. This is because neither package exists in the model, and so they reflect the sensitivity of the direct head PM to a unit injection of water. But let's unpack these results a bit further..."
   ]
  },
  {
   "cell_type": "markdown",
   "id": "d1396ee1-12ab-4a8b-924b-3144d1437b00",
   "metadata": {},
   "source": [
    "Recharge/well Q downgradient of the PM shows decreasing sensitivity the further you move away from the PM. Because the problem is discontinuous, we would expect that sensitivity to drop to zero at the next lower stair step to the head PM. Conversely, upgradient sensitivity is uniformly high until the furthest upgradient step is reached, where the sensitivity drops lower as it approaches the upgradient GHB. This reflects the interplay between unit injection of water and the fixed GHB head."
   ]
  },
  {
   "cell_type": "markdown",
   "id": "edf45dfb-30f6-43ca-b3fa-9339b2036913",
   "metadata": {},
   "source": [
    "#### Let's test our adjoint understanding a bit. What happens if we put the direct head PM in the middle of the domain now?\n",
    "\n",
    "__Self-Learning:__ Walk through the results and try to explain the differences you see from the previous set of results"
   ]
  },
  {
   "cell_type": "code",
   "execution_count": null,
   "id": "b353e503-02c2-41f2-9361-5b36a68236a4",
   "metadata": {},
   "outputs": [],
   "source": [
    "# close previous hdf5 connection\n",
    "hdf.close()\n",
    "\n",
    "# build and run model\n",
    "run_model()\n",
    "\n",
    "# build PM input\n",
    "pm_col = 100  # pm column\n",
    "pm_fname = \"zaidel_perfmeas.dat\"\n",
    "fpm = open(os.path.join(workspace, pm_fname), \"w\")\n",
    "\n",
    "layer, row = 1, 1  # the layer row and column\n",
    "sp, ts = 1, 1  # stress period and time step\n",
    "pm_name = \"pm_single\"\n",
    "fpm.write(\"begin performance_measure {0}\\n\".format(pm_name))\n",
    "fpm.write(\n",
    "    \"{0} {1} {2} {3} {4} head direct 1.0 -1e30\\n\".format(sp, ts, layer, row, pm_col)\n",
    ")\n",
    "fpm.write(\"end performance_measure\\n\\n\")\n",
    "fpm.close()\n",
    "\n",
    "# run adjoint\n",
    "bd = os.getcwd()\n",
    "os.chdir(workspace)\n",
    "forward_hdf5_name = \"zaidel.hdf5\"\n",
    "start = datetime.now()\n",
    "\n",
    "adj = mf6adj.Mf6Adj(pm_fname, str(lib_name), logging_level=\"INFO\")\n",
    "adj.solve_gwf(hdf5_name=forward_hdf5_name)  # solve the standard forward solution\n",
    "dfsum = adj.solve_adjoint()  # solve the adjoint state for each performance measure\n",
    "adj.finalize()  # release components\n",
    "duration = (datetime.now() - start).total_seconds()\n",
    "print(\"took:\", duration)\n",
    "os.chdir(bd)"
   ]
  },
  {
   "cell_type": "code",
   "execution_count": null,
   "id": "3342370e-d9cf-4fef-bcb5-55d030e17001",
   "metadata": {},
   "outputs": [],
   "source": [
    "# get results and plot\n",
    "result_hdf = \"adjoint_solution_pm_single_zaidel.hdf5\"\n",
    "hdf = h5py.File(os.path.join(workspace, result_hdf), \"r\")\n",
    "keys = list(hdf.keys())\n",
    "keys.sort()\n",
    "keys"
   ]
  },
  {
   "cell_type": "code",
   "execution_count": null,
   "id": "cabe1716-e486-42bf-a82c-c2ee7d6e5bd0",
   "metadata": {},
   "outputs": [],
   "source": [
    "grp = hdf[\"composite\"]\n",
    "plot_keys = [i for i in grp.keys() if len(grp[i].shape) == 3]\n",
    "for pkey in plot_keys:\n",
    "    arr = grp[pkey][:]\n",
    "    for k, karr in enumerate(arr):\n",
    "        plot_results(\n",
    "            arr=karr, plot_head=False, arr_label=pkey, plot_pm=True, pm_col=pm_col\n",
    "        )"
   ]
  },
  {
   "cell_type": "markdown",
   "id": "7760c8f9-9798-4f90-bf04-9e8325de72f7",
   "metadata": {},
   "source": [
    "#### This example has demonstrated the large amount of information one can glean from running `Mf6Adj` for a single direct head performance measure on a simple 2-D, SS model. \n",
    "\n",
    "#### One can imagine how powerful this could be for larger, more complex model applications. All for the computational cost of a single forward run and single adjoint solution. A screamin' deal!"
   ]
  }
 ],
 "metadata": {
  "language_info": {
   "name": "python"
  }
 },
 "nbformat": 4,
 "nbformat_minor": 5
}
